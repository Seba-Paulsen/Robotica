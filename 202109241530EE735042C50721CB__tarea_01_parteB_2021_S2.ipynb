{
  "nbformat": 4,
  "nbformat_minor": 0,
  "metadata": {
    "colab": {
      "name": "tarea_01_parteB_2021_S2.ipynb",
      "provenance": [],
      "collapsed_sections": [],
      "toc_visible": true
    },
    "kernelspec": {
      "name": "python3",
      "display_name": "Python 3"
    },
    "language_info": {
      "name": "python"
    }
  },
  "cells": [
    {
      "cell_type": "markdown",
      "metadata": {
        "id": "TL1YCtG9Ps_K"
      },
      "source": [
        "# Tarea 1: Visión Computacional\n",
        "\n",
        "ME4707 - Robótica - Semestre 2021-2\n",
        "\n",
        "Profesor: Juan C. Zagal - Auxiliar: Raimundo Lorca - Laboratorios: Gaspar Fábrega"
      ]
    },
    {
      "cell_type": "markdown",
      "metadata": {
        "id": "BSFu6nrPP7de"
      },
      "source": [
        "# Instalación\n"
      ]
    },
    {
      "cell_type": "markdown",
      "metadata": {
        "id": "DlL2IDMelVST"
      },
      "source": [
        "## 1. Google Colab\n",
        "En esta tarea, que se trabajará durante los primeros cuatro laboratorios computacionales, se utilizará Python 3 y la librería de visión computacional OpenCV. La forma más fácil de tener un ambiente de desarrollo de Python con todas las bibliotecas más comunes es utilizar **Google Colaboratory**. Colaboratory es un entorno Jupyter notebook gratuito que se ejecuta completamente en la nube. Puede escribir y ejecutar código, y solo requiere de una cuenta google.\n",
        "\n",
        "https://colab.research.google.com/notebooks/welcome.ipynb\n",
        "\n",
        "Debe trabajar sobre este mismo archivo .ipynb completando lo que se solicita en cada problema."
      ]
    },
    {
      "cell_type": "markdown",
      "metadata": {
        "id": "OBX0u3z9PyTZ"
      },
      "source": [
        "## 2. OpenCV\n",
        "En esta tarea se utilizará principalmente **OpenCV**. La Open Source Computer Vision es una librería especializada en herramientas de visión computacional y en todo lo que respecta a visión artificial en general. De este modo provee de funcionalidades de todo tipo de complejidad, desde operaciones básicas de procesamiento de imágenes, hasta algoritmos de reconocimiento de objetos.\n",
        "\n",
        "<img src=\"https://raw.githubusercontent.com/cherrerab/roboticafcfm/master/auxiliar_01/bin/opencv_logo.png\" height=\"200\">\n",
        "\n",
        "Por supuesto, esta librería cuenta con su documentación correspondiente. En esta puede encontrar descripciones más detalladas de sus funcionalidades, así como también ejemplos, tutoriales y otros.\n",
        "\n",
        "https://docs.opencv.org/master/\n",
        "\n",
        "Debido a conflictos de patentes, el 2018 la implementación de SIFT en OpenCV fue retirada de la librería. No obstante, dado que la patente de SIFT expiró en Marzo del 2020, esta ha vuelto a ser incluida en los builds más recientes de `opencv-contrib`.\n",
        "\n",
        "De esta forma, para utilizarla durante la tarea, instalaremos la siguiente version de OpenCV en el entorno de Colab, para asegurarnos de poder utilizar SIFT."
      ]
    },
    {
      "cell_type": "code",
      "metadata": {
        "id": "2QaTHPa8Q93g"
      },
      "source": [
        "!pip install opencv-python==4.5.1.48 opencv-contrib-python==4.5.1.48"
      ],
      "execution_count": null,
      "outputs": []
    },
    {
      "cell_type": "markdown",
      "metadata": {
        "id": "3arAR9QZQAhS"
      },
      "source": [
        "##3. Github\n",
        "\n",
        "Para facilitar la carga de los archivos y las utilidades necesarias para completar la tarea, se ha habilitado un directorio en el github del curso `roboticafcfm`. Para clonar el repositorio en el entorno de Colab solo debe ejecutar el siguiente bloque de código."
      ]
    },
    {
      "cell_type": "code",
      "metadata": {
        "id": "_cYwrE4hQKtG"
      },
      "source": [
        "!git clone https://github.com/gasparzilla/roboticafcfm.git\n",
        "%cd /content/roboticafcfm"
      ],
      "execution_count": null,
      "outputs": []
    },
    {
      "cell_type": "markdown",
      "metadata": {
        "id": "ogke1TurmRZU"
      },
      "source": [
        "# Introducción\n",
        "A finales del 2017, el equipo de DeepMind introdujo AlphaZero, un sistema de inteligencia artificial que, mediante una arquitectura de deep learning, es capaz de lograr en pocas horas de entrenamiento niveles sobre-humanos en juegos tales como el ajedrez y el Go. En particular en el caso del ajedrez, AlphaZero logró dominar a Stockfish después de tan solo 4 horas de autoaprendizaje, sin acceso a libros de apertura o base de datos de tablas de finales.\n",
        "\n",
        "<img src=\"https://lh3.googleusercontent.com/kFsqNQX_cQ2bLof_G_2UKCuSwDT34PcZpC8nNHDwaiGFteedmYbJODRnUXz8t_zdCemoWPAX_JxtkjfFHdBKhf819GDxiruo4HYYug=w1440-rw-v1\" height=\"240\">\n",
        "\n",
        "No obstante, hasta el momento AlphaZero es completamente incapaz de interactuar por si solo con el mundo real, pues su arquitectura de redes neuronales está diseñada únicamente para su sistema de aprendizaje. Así, para complementar a AlphaZero resulta necesario implementar un sistema de visión computacional que le permita interpretar la información espacial de su entorno y de esta manera reconocer, por ejemplo, la posición de un tablero de ajedrez.\n",
        "\n",
        "En esta tarea trabajarán en la implementación de un `pipeline` que permita la interpretación de la posición de un tablero de ajedrez a partir de su fotografía. Por supuesto, esta implementación comprende el desarrollo de subetapas que irán resolviendo individualmente a lo largo de la tarea, como se muestra en la imagen a continuación.\n",
        "\n",
        "<img src=\"https://raw.githubusercontent.com/gasparzilla/roboticafcfm/master/tarea_01/imagesB/BP1A1.png\" width=\"1000\">"
      ]
    },
    {
      "cell_type": "markdown",
      "metadata": {
        "id": "WbVnpp5Yutzk"
      },
      "source": [
        "---\n",
        "# 1. Detectar Bordes (1 pt)\n",
        "\n",
        "Las imágenes de tableros de ajedrez con las que trabajarán en la tarea se encuentran en la carpeta `tarea_01/chessboards` dentro del github del curso. Por ejemplo, en el siguiente bloque de código cargaremos una imágen de muestra de esta carpeta."
      ]
    },
    {
      "cell_type": "code",
      "metadata": {
        "id": "-z3sf4rExfFr"
      },
      "source": [
        "import numpy as np\n",
        "import matplotlib.pyplot as plt\n",
        "import cv2\n",
        "\n",
        "# directorio que contiene las imágenes de referencia\n",
        "img_path = 'tarea_01//chessboards//board_v2_2.png'\n",
        "img = cv2.imread(img_path)\n",
        "img = cv2.cvtColor(img, cv2.COLOR_BGR2RGB)\n",
        "\n",
        "# visualizar imagen\n",
        "fig = plt.figure(figsize=(6, 6))\n",
        "plt.imshow(img)\n",
        "plt.axis('off')"
      ],
      "execution_count": null,
      "outputs": []
    },
    {
      "cell_type": "markdown",
      "metadata": {
        "id": "OuMzY-lHDGho"
      },
      "source": [
        "El objetivo de esta etapa consiste en aislar los bordes de la imagen tal de posteriormente poder reconocer las rectas que definen el cuadriculado del tablero mediante la Transformada de Hough.\n",
        "\n",
        "Para lograr esto se recomienda seguir el procedimiento descrito en el siguiente bloque de pseudocódigo.\n",
        "\n",
        "```\n",
        "Algoritmo 1: Detección de Bordes(img)\n",
        "------------------------------------\n",
        "  Convertir imagen a HSV\n",
        "  Segmentar color de las casillas oscuras -> mask\n",
        "  Utilizar detección de bordes Canny o Sobel\n",
        "  Retornar bordes\n",
        "```\n",
        "\n",
        "<img src=\"https://raw.githubusercontent.com/gasparzilla/roboticafcfm/master/tarea_01/imagesB/BP1A2.png\" height=\"250\">\n",
        "\n",
        "Implemente este algoritmo en la función `detectEdges(img)`, la cual debe recibir una imágen en RGB y retornar la imágen binaria de bordes resultante. Por supuesto, puede utilizar la implementación de Canny en OpenCV `cv2.Canny`.\n",
        "\n",
        "[Canny Edge Detection OpenCV](https://opencv-python-tutroals.readthedocs.io/en/latest/py_tutorials/py_imgproc/py_canny/py_canny.html)\n",
        "\n",
        "Muestre sus resultados.\n"
      ]
    },
    {
      "cell_type": "code",
      "metadata": {
        "id": "bE5EeZFPQsxv"
      },
      "source": [
        "def detectEdges(img):\n",
        "  \"\"\"\n",
        "  -> edges\n",
        "\n",
        "  retorna los bordes que definen el cuadriculado del tablero presente\n",
        "  en la imagen ingresada.\n",
        "\n",
        "  :param np.array img:\n",
        "    imagen 8-bits en RGB.\n",
        "  \n",
        "  :returns np.array edges:\n",
        "    imagen binaria 8-bits con los bordes detectados en la imagen.\n",
        "  \"\"\"\n",
        "  return edges\n",
        "\n",
        "# ---\n",
        "# Mostrar Resultados"
      ],
      "execution_count": null,
      "outputs": []
    },
    {
      "cell_type": "markdown",
      "metadata": {
        "id": "LVbMbzdpJPQ-"
      },
      "source": [
        "---\n",
        "# 2. Detectar Rectas (1.5 pts)\n",
        "\n",
        "Para lograr esta etapa de procesamiento utilizaremos la implementación de OpenCV de la Transformada de Hough, `cv2.HoughLines`.\n",
        "\n",
        "[Hough Line Transform OpenCV](https://opencv-python-tutroals.readthedocs.io/en/latest/py_tutorials/py_imgproc/py_canny/py_canny.html)\n",
        "\n",
        "No obstante, es probable que al usar esta función, la transformada retorne más de un recta para el mismo borde en la imagen. Así, es necesario filtrar la lista de rectas resultantes con la finalidad de retornar una única recta por cada borde real en la imagen.\n",
        "\n",
        "<img src=\"https://raw.githubusercontent.com/gasparzilla/roboticafcfm/master/tarea_01/imagesB/BP1A3.png\" height=\"250\">\n",
        "\n",
        "Nuevamente, se recomienda seguir el siguiente bloque de pseudocódigo.\n",
        "\n",
        "```\n",
        "Algoritmo 2: Detección de Rectas(img)\n",
        "-------------------------------------\n",
        "  Utilizar HoughLines sobre la imagen -> lines\n",
        "  Reestructurar lines en dos np.array -> rho, theta\n",
        "  Inicializar una lista vacía -> rectas\n",
        "\n",
        "  for r, t in zip(rho, theta)\n",
        "    Encontrar los index en rho y theta que cumplan la condición:\n",
        "      (abs(rho - r) < 100) and (abs(theta - t) < pi/3)\n",
        "\n",
        "    Promediar rho[index] -> rho_mean\n",
        "    Promediar theta[index] -> theta_mean\n",
        "\n",
        "    Si (rho_mean, theta_mean) no se ha agregado a rectas:\n",
        "      Agregar (rho_mean, theta_mean) a rectas\n",
        "\n",
        "  Retornar rectas\n",
        "```\n",
        "\n",
        "Implemente este algoritmo en la función `getLines(img)`, la cual debe recibir una imágen binaria de bordes y retornar la lista `rectas`.\n",
        "\n",
        "Para obtener los index de un `np.array` que cumplan con alguna condición pueden utilizar la función `np.where`, mientras que para remover los index de un arreglo numérico pueden usar `np.delete`.\n",
        "\n",
        "\n"
      ]
    },
    {
      "cell_type": "code",
      "metadata": {
        "id": "s_WWlTWYWF9J"
      },
      "source": [
        "from utils import plot_lines\n",
        "\n",
        "def getLines(img):\n",
        "  \"\"\"\n",
        "  -> rectas\n",
        "\n",
        "  retorna una lista con tuplas (rho, theta) que describen las rectas\n",
        "  presentes en la imagen de bordes ingresadas.\n",
        "    [(rho0, theta0), (rho1, theta1), (rho2, theta2), ...]\n",
        "\n",
        "  :param np.array img:\n",
        "    imagen binaria 8-bits de bordes.\n",
        "  \n",
        "  :returns list(tuple) rectas:\n",
        "    lista de tuplas (rho, theta).\n",
        "  \"\"\"\n",
        "  return rectas\n",
        "\n",
        "# ---\n",
        "# Mostrar resultados\n"
      ],
      "execution_count": null,
      "outputs": []
    },
    {
      "cell_type": "markdown",
      "metadata": {
        "id": "H-XFDgODW4cX"
      },
      "source": [
        "Para facilitar la visualización del resultado de su implementación, en el github se ha incorporado la función `plot_lines(img, lines)` que le permitirá plotear la rectas resultantes de la función `getLines` sobre una imagen."
      ]
    },
    {
      "cell_type": "code",
      "metadata": {
        "id": "vs7Rcj30JOjp"
      },
      "source": [
        "from utils import plot_lines\n",
        "# cargar imagen en rgb\n",
        "img_path = 'tarea_01//chessboards//board_v2_2.png'\n",
        "img = cv2.imread(img_path)\n",
        "img = cv2.cvtColor(img, cv2.COLOR_BGR2RGB)\n",
        "\n",
        "# plotar rectas\n",
        "lines_test = [ (650, 0.674), (590, 1.32), (510, 0.1), (210, 1.57) ]\n",
        "plt.figure(figsize=(6,6))\n",
        "plot_lines(img, lines_test)\n",
        "plt.axis('off')"
      ],
      "execution_count": null,
      "outputs": []
    },
    {
      "cell_type": "markdown",
      "metadata": {
        "id": "18_9s_2BYZH7"
      },
      "source": [
        "---\n",
        "# 3. Detectar Esquinas\n",
        "Con la finalidad de reducir la carga de trabajo de esta tarea, esta etapa en el procesamiento se encuentra completamente implementada en el github.\n",
        "\n",
        "La función `get_intersections` permite obtener los pares de coordenadas `(x, y)` que describen los puntos de intersección de rectas dentro de la imagen. Es importante notar que las coordenadas resultantes vienen ordenadas en la secuencia presentada en la imagen a continuación.\n",
        "\n",
        "<img src=\"https://raw.githubusercontent.com/gasparzilla/roboticafcfm/master/tarea_01/imagesB/BP1A4.png\" height=\"250\">\n",
        "\n",
        "Por otro lado, también se incluye la función `plot_corners(img, corners)` que, del mismo modo que `plot_lines`, permite plotear los puntos de intersección al interior de la imagen.\n",
        "\n"
      ]
    },
    {
      "cell_type": "code",
      "metadata": {
        "id": "58ljGdr9IF77"
      },
      "source": [
        "from utils import get_intersections, plot_corners\n",
        "\n",
        "# cargar imagen en rgb\n",
        "img_path = 'tarea_01//chessboards//board_v2_2.png'\n",
        "img = cv2.imread(img_path)\n",
        "img = cv2.cvtColor(img, cv2.COLOR_BGR2RGB)\n",
        "\n",
        "# obtener puntos de intersección\n",
        "lines_test = [ (650, 0.674), (590, 1.32), (510, 0.1), (210, 1.57) ]\n",
        "corners = get_intersections(img, lines_test)\n",
        "\n",
        "# plotear esquinas\n",
        "plt.figure(figsize=(6, 6))\n",
        "plot_corners(img, corners)\n",
        "plt.axis('off')"
      ],
      "execution_count": null,
      "outputs": []
    },
    {
      "cell_type": "markdown",
      "metadata": {
        "id": "BsRS8suba0hT"
      },
      "source": [
        "---\n",
        "# 4. Extraer Casilla (1 pt)\n",
        "\n",
        "Teniendo presente el patrón en que las esquinas son retornadas de la función `get_intersections`, el objetivo de esta etapa consiste en determinar la secuencia de puntos que que describe el contorno de una casilla en el tablero, en función de la posición de la casilla. Por ejemplo si se quiere aislar la casilla `(2, 4)` del tablero, la secuencia de puntos que describe su contorno es la serie `[22, 23, 32, 31]`.\n",
        "\n",
        "<img src=\"https://raw.githubusercontent.com/gasparzilla/roboticafcfm/master/tarea_01/imagesB/BP1A5.png\" height=\"250\">\n",
        "\n",
        "Implemente la función `getSquare(row, col, img, corners)` que a partir de la posición `(row, col)`, esta retorna una imagen con la casilla correspondiente completamente aislada. Para facilitar este trabajo, se propone utilizar la informacion almacenada en los contornos obtenidos, para aislar una region especifica de la imagen:"
      ]
    },
    {
      "cell_type": "code",
      "metadata": {
        "id": "_8yTvM_Tkh0z"
      },
      "source": [
        "# cargar imagen en rgb\n",
        "img_path = 'tarea_01//chessboards//board_v2_2.png'\n",
        "img = cv2.imread(img_path)\n",
        "img = cv2.cvtColor(img, cv2.COLOR_BGR2RGB)\n",
        "\n",
        "# contorno de ejemplo\n",
        "contour = np.array( [[100, 100], [500, 100], [500, 500], [100, 500]] )\n",
        "\n",
        "# Extraer region de la imagen\n",
        "img_mask = img[contour[3][0]:contour[1][0], contour[1][1]:contour[3][1]]\n",
        "\n",
        "# visualizar imagen\n",
        "fig = plt.figure(figsize=(6, 6))\n",
        "plt.imshow(img_mask)\n",
        "plt.axis('off')"
      ],
      "execution_count": null,
      "outputs": []
    },
    {
      "cell_type": "markdown",
      "metadata": {
        "id": "4Wvfpfy1mRsp"
      },
      "source": [
        "De la misma manera que en los algoritmos anteriores, puede guiarse del siguiente bloque de pseudocódigo.\n",
        "\n",
        "```\n",
        "Algoritmo 3: Segmentación Casilla(row, col, img, corners)\n",
        "---------------------------------------------------------\n",
        "  Determinar secuencia de puntos del contorno -> index\n",
        "  Obtener serie de coordenadas corners[index] -> contour\n",
        "  Extraer region desde la imagen original\n",
        "```"
      ]
    },
    {
      "cell_type": "code",
      "metadata": {
        "id": "X3Vz6YXpmQmz"
      },
      "source": [
        "def getSquare(row, col, img, corners):\n",
        "  \"\"\"\n",
        "  -> out\n",
        "\n",
        "  retorna una imagen con la casilla correspondiente a la\n",
        "  posición (row, col) completamente aislada.\n",
        "\n",
        "  :param int row:\n",
        "    fila de la casilla de interés.\n",
        "  :param int col:\n",
        "    columna de la casilla de interés.\n",
        "  :param np.array img:\n",
        "    imagen 8-bits en RGB.\n",
        "  :param np.array corners:\n",
        "    arreglo numérico de la forma (ncorners, 2) con los pares\n",
        "    de coordenadas (x, y) que describen la posición de las\n",
        "    esquinas en el tablero.\n",
        "\n",
        "  :returns np.array out:\n",
        "    imagen 8-bits en RGB con solamente la casilla de interés.\n",
        "  \"\"\"\n",
        "\n",
        "  return out\n",
        "\n",
        "# ---\n",
        "# Mostrar resultados\n"
      ],
      "execution_count": null,
      "outputs": []
    },
    {
      "cell_type": "markdown",
      "metadata": {
        "id": "wZlY2tixoNss"
      },
      "source": [
        "---\n",
        "# 5. Identificar Pieza (2 pts)\n",
        "Una vez tenemos la capacidad de asilar cada una de las casillas del tablero, podemos ir recorriendo este para ir identificando las piezas presentes en la posición.\n",
        "\n",
        "Considerando como entrada la imagen resultante de la función `getSquare`, implemente la función `identifyPiece(img)` la cual, mediante SIFT, debe determinar el nombre de la pieza presente en la imagen.\n",
        "\n",
        "<img src=\"https://raw.githubusercontent.com/gasparzilla/roboticafcfm/master/tarea_01/imagesB/BP1A6.png\" height=\"250\">\n",
        "\n",
        "Para esto considere que en la carpeta `tarea_01/pieces` se encuentran 12 imágenes de la forma `('white_knight.png', 'black_queen.png', 'white_pawn.png', 'black_rook.png')` las cuales contienen distintas imágenes de referencia para comparar mediante SIFT. Recuerde que la librería `os` provee funcionalidades como `os.listdir`, `os.path.join` y `os.path.splitext` que le ayudarán a recorrer y a obtener los nombres de estas imágenes.\n",
        "\n",
        "Considere el siguiente bloque de pseudocódigo como guía para la implementación de la función.\n",
        "\n",
        "```\n",
        "Algoritmo 4: Identificar Pieza(img)\n",
        "---------------------------------------------------------\n",
        "  Obtener descriptores de SIFT de img -> (kps, des)\n",
        "  Obtener lista de imágenes de referencia ->ref_imgs\n",
        "  Inicializar lista de nombres de piezas -> names\n",
        "  Inicializar lista acumuladora de votos -> votes\n",
        "\n",
        "  for i, ref_img in enumerate(ref_imgs)\n",
        "    Agregar nombre de la pieza a names[i]\n",
        "    Obtener descriptores de SIFT -> (kps_ref, des_ref)\n",
        "    Obtener matches entre (des, des_ref)\n",
        "    Por cada buen match agregar un voto a votes[i]\n",
        "\n",
        "  Obtener mayor cantidad de votos -> max_votes\n",
        "  Si max_votes es mayor a un umbral\n",
        "    Retornar name con mayor cantidad de votos\n",
        "  \n",
        "  Retornar 'empty'\n",
        "```\n",
        "\n",
        "Note que este algoritmo es un tanto ineficiente, pues los descriptores de las imágenes de referencia serán calculados cada vez que se utilice la función. Si lo desea, puede calcular los features de referencia previamente y luego ingresarlos a la función como `identifyPiece(img, names, ref_features)` para ahorrar costo computacional."
      ]
    },
    {
      "cell_type": "code",
      "metadata": {
        "id": "61n-tghB0uES"
      },
      "source": [
        "import os\n",
        "\n",
        "def identifyPiece(img):\n",
        "  \"\"\"\n",
        "  -> name\n",
        "\n",
        "  retorna el nombre de la pieza presente en la imagen ingresada.\n",
        "  si no hay ninguna pieza, se retorna 'empty'.\n",
        "\n",
        "  :param np.array img:\n",
        "    imagen 8-bits en RGB de la casilla aislada.\n",
        "\n",
        "  :returns str name:\n",
        "    nombre de la pieza presente en la imagen.\n",
        "  \"\"\"\n",
        "  \n",
        "  return 'empty'"
      ],
      "execution_count": null,
      "outputs": []
    },
    {
      "cell_type": "markdown",
      "metadata": {
        "id": "LyzaM4Ib1mze"
      },
      "source": [
        "# 6. Evaluación\n",
        "Si ha implementado correctamente todas las funciones solicitadas, el siguiente bloque de código debiese retornar una renderización de la posición identificada en el tablero.\n",
        "\n",
        "No es estrictamente necesario que el programa logre clasificar al 100% las piezas presentes, pero comprobamos que si es posible, por lo menos para la imagen seleccionada `tarea_01//chessboards//board_v2_2.png` . Intenten apuntar a la detección de todas las piezas.\n",
        "\n",
        "Comparen el resultado obtenido con la imagen original."
      ]
    },
    {
      "cell_type": "code",
      "metadata": {
        "id": "LLy3GwDb1mNV"
      },
      "source": [
        "from utils import get_intersections\n",
        "from utils.chess import ChessBoard\n",
        "\n",
        "# incializar tablero\n",
        "board = ChessBoard()\n",
        "\n",
        "# cargar imagen de tablero real\n",
        "img_path = 'tarea_01//chessboards//board_v2_2.png'\n",
        "img = cv2.imread(img_path)\n",
        "img = cv2.cvtColor(img, cv2.COLOR_BGR2RGB)\n",
        "\n",
        "# obtener rectas\n",
        "edges = detectEdges(img)\n",
        "lines = getLines(edges)\n",
        "\n",
        "# obtener corners\n",
        "corners = get_intersections(img, lines)\n",
        "\n",
        "# procesar cada casilla del tablero\n",
        "for i in range(8):\n",
        "  for j in range(8):\n",
        "    # generar img de la casilla\n",
        "    piece = getSquare(j, i, img, corners)\n",
        "\n",
        "    name = identifyPiece(piece)\n",
        "    if name == 'empty':\n",
        "      continue\n",
        "\n",
        "    # agregar al tablero\n",
        "    board.drawPiece(name, position=(i, j))\n",
        "\n",
        "# visualizar tablero\n",
        "board.plot()"
      ],
      "execution_count": null,
      "outputs": []
    },
    {
      "cell_type": "markdown",
      "metadata": {
        "id": "CdYwCk8L-2BA"
      },
      "source": [
        "Para mostrar que el código no siempre es infalible, se tiene un ejemplo donde debería fallar. Pruebe ahora aplicar la funcion anterior con la imagen `tarea_01//chessboards//board_v2_1.png`. \n",
        "\n",
        "Comente las razones por las que podría estar fallando y proponga una solución."
      ]
    },
    {
      "cell_type": "code",
      "metadata": {
        "id": "okWJbY_cAJDI"
      },
      "source": [
        "from utils import get_intersections\n",
        "from utils.chess import ChessBoard\n",
        "\n",
        "# incializar tablero\n",
        "board = ChessBoard()\n",
        "\n",
        "# cargar imagen de tablero real\n",
        "img_path = 'tarea_01//chessboards//board_v2_1.png'\n",
        "img = cv2.imread(img_path)\n",
        "img = cv2.cvtColor(img, cv2.COLOR_BGR2RGB)\n",
        "\n",
        "# obtener rectas\n",
        "edges = detectEdges(img)\n",
        "lines = getLines(edges)\n",
        "\n",
        "# obtener corners\n",
        "corners = get_intersections(img, lines)\n",
        "\n",
        "# procesar cada casilla del tablero\n",
        "for i in range(8):\n",
        "  for j in range(8):\n",
        "    # generar img de la casilla\n",
        "    piece = getSquare(j, i, img, corners)\n",
        "\n",
        "    name = identifyPiece(piece)\n",
        "    if name == 'empty':\n",
        "      continue\n",
        "\n",
        "    # agregar al tablero\n",
        "    board.drawPiece(name, position=(i, j))\n",
        "\n",
        "# visualizar tablero\n",
        "board.plot()"
      ],
      "execution_count": null,
      "outputs": []
    },
    {
      "cell_type": "markdown",
      "metadata": {
        "id": "F1b2toLnAPpV"
      },
      "source": [
        "#RESPUESTAS:\n"
      ]
    }
  ]
}